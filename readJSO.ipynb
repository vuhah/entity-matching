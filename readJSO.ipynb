{
 "cells": [
  {
   "cell_type": "code",
   "execution_count": 1,
   "id": "1bb6e377",
   "metadata": {},
   "outputs": [],
   "source": [
    "import javaobj\n",
    "import pandas as pd\n",
    "import csv"
   ]
  },
  {
   "cell_type": "code",
   "execution_count": 2,
   "id": "dc6d0613",
   "metadata": {},
   "outputs": [
    {
     "name": "stdout",
     "output_type": "stream",
     "text": [
      "Sony Switcher - SBV40S\n",
      "Sony Switcher - SBV40S/ Eliminates Disconnecting And Reconnecting Cables/ Compact Design/ 4 A/V Inputs With S-Video Jacks/ 1 A/V Output With S-Video (Y/C)Jack/ 2 Audio Output\n",
      "49\n"
     ]
    }
   ],
   "source": [
    "class JSOFileReader:\n",
    "    def __init__(self, filename):\n",
    "        self.filename = filename\n",
    "        self.df = pd.DataFrame()\n",
    "    \n",
    "    def __read_data_set__(self, attr):\n",
    "        try:\n",
    "            row = dict()\n",
    "            if isinstance(attr, set):\n",
    "                for ins in set(attr):\n",
    "                    class_desc = ins.classdesc\n",
    "                    key = ''\n",
    "                    for field_desc in class_desc.fields:   \n",
    "                        attr_name = field_desc.name\n",
    "                        if attr_name == 'name':\n",
    "                            key = getattr(ins, attr_name)\n",
    "                        if attr_name == 'value':\n",
    "                            attr_value = getattr(ins, attr_name)\n",
    "                            row[key]=attr_value\n",
    "                return pd.DataFrame(row, index=[0])\n",
    "            else:\n",
    "                raise TypeError(\"Not a dictionary data\")\n",
    "        except TypeError as msg:\n",
    "            print(msg)\n",
    "    def __read_data_scala__(self, attr_value, attr_name):\n",
    "        try:\n",
    "            row = dict()\n",
    "            if isinstance(attr_value, int) or isinstance(attr_value, javaobj.v2.beans.JavaString):\n",
    "                row[attr_name] = attr_value\n",
    "                return pd.DataFrame(row, index=[0])\n",
    "            else:\n",
    "                raise TypeError(\"Not a scala data\")\n",
    "        except TypeError as msg:\n",
    "            print(msg)\n",
    "    def read_file(self):\n",
    "        with open(self.filename, 'rb') as f:\n",
    "            data = javaobj.v2.load(f)\n",
    "        return data\n",
    "    def to_pandas_df(self):\n",
    "        jso_raw = self.read_file()\n",
    "        \n",
    "        df = pd.DataFrame()\n",
    "        for obj in jso_raw:\n",
    "            for key, value in obj.__dict__.items():\n",
    "                if key == 'classdesc':\n",
    "                    field_names = [field.name for field in value.fields]\n",
    "                    field_values = []\n",
    "                    pd_row = pd.DataFrame()\n",
    "                    for field in value.fields:\n",
    "                        attr_value = getattr(obj, field.name)\n",
    "#                         print(type(attr_value))\n",
    "                        if isinstance(attr_value, set):\n",
    "                            attr_set = self.__read_data_set__(attr_value)\n",
    "                            pd_row = pd.concat([pd_row, attr_set], axis=1)\n",
    "                        elif isinstance(attr_value, int) or isinstance(attr_value, javaobj.v2.beans.JavaString):\n",
    "#                             print(attr_value)\n",
    "                            attr_scala = self.__read_data_scala__(attr_value,  field.name)\n",
    "                            pd_row = pd.concat([pd_row, attr_scala], axis=1)\n",
    "                    df = pd.concat([df, pd_row], ignore_index=True)\n",
    "        self.df = df\n",
    "        return df\n",
    "    "
   ]
  },
  {
   "cell_type": "code",
   "execution_count": null,
   "id": "d805312d",
   "metadata": {},
   "outputs": [],
   "source": []
  }
 ],
 "metadata": {
  "kernelspec": {
   "display_name": "Python 3 (ipykernel)",
   "language": "python",
   "name": "python3"
  },
  "language_info": {
   "codemirror_mode": {
    "name": "ipython",
    "version": 3
   },
   "file_extension": ".py",
   "mimetype": "text/x-python",
   "name": "python",
   "nbconvert_exporter": "python",
   "pygments_lexer": "ipython3",
   "version": "3.10.0"
  }
 },
 "nbformat": 4,
 "nbformat_minor": 5
}

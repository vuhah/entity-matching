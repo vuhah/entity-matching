{
 "cells": [
  {
   "cell_type": "code",
   "execution_count": 26,
   "id": "1a83cd83",
   "metadata": {},
   "outputs": [],
   "source": [
    "# import py_entitymatching as em\n",
    "import pandas as pd\n",
    "import os, sys\n",
    "import ydata_profiling as yp"
   ]
  },
  {
   "cell_type": "code",
   "execution_count": 27,
   "id": "82841188",
   "metadata": {},
   "outputs": [],
   "source": [
    "# Parameter\n",
    "PATH_DIR = os.getcwd()\n",
    "DATASETS_FOLDER = 'datasets'\n",
    "REPORT_FOLDER = 'reports'\n",
    "file1 = 'imdbProfilesNEW.csv'\n",
    "file2 = 'tmdbProfiles.csv'\n",
    "matched = 'imdbTmdbIdDuplicates.csv'"
   ]
  },
  {
   "cell_type": "code",
   "execution_count": 33,
   "id": "67c6c0ba",
   "metadata": {},
   "outputs": [],
   "source": [
    "# Define Magellan Pineline\n",
    "class MagellanPineline:\n",
    "    def __init__(self, fileNameA, fileNameB, matched, expected) -> None:\n",
    "        pathdir = PATH_DIR + os.sep + DATASETS_FOLDER\n",
    "        self.__Acsv__ = pathdir + os.sep + fileNameA\n",
    "        self.__Bcsv__ = pathdir + os.sep + fileNameB\n",
    "        self.__Matched__ = pathdir + os.sep + matched\n",
    "        self.A = pd.DataFrame()\n",
    "        self.B = pd.DataFrame()\n",
    "        self.sampleA = pd.DataFrame()\n",
    "        self.matched = pd.DataFrame()\n",
    "        self.expected = expected\n",
    "\n",
    "    def readFile(self):\n",
    "        self.A = pd.read_csv(self.__Acsv__)\n",
    "        self.B = pd.read_csv(self.__Bcsv__)\n",
    "        self.C = pd.read_csv(self.__Matched__)\n",
    "\n",
    "    def down_sampling(self):\n",
    "        sample_A, sample_B = em.down_sample(self.A, self.B, size=1000, y_param=1, show_progress=False)\n",
    "\n",
    "    def execute(self):\n",
    "        self.readFile()"
   ]
  },
  {
   "cell_type": "code",
   "execution_count": 29,
   "id": "874e5e49",
   "metadata": {},
   "outputs": [],
   "source": [
    "problem = MagellanPineline(file1, file2, matched, 0.8)\n",
    "problem.readFile()"
   ]
  },
  {
   "cell_type": "code",
   "execution_count": 31,
   "id": "3d77e9ee",
   "metadata": {},
   "outputs": [
    {
     "data": {
      "application/vnd.jupyter.widget-view+json": {
       "model_id": "c6488be6606a48fa90ea98e82d62d1f6",
       "version_major": 2,
       "version_minor": 0
      },
      "text/plain": [
       "Summarize dataset:   0%|          | 0/5 [00:00<?, ?it/s]"
      ]
     },
     "metadata": {},
     "output_type": "display_data"
    },
    {
     "data": {
      "application/vnd.jupyter.widget-view+json": {
       "model_id": "c7597a0d72064176a5747bb74b7b351a",
       "version_major": 2,
       "version_minor": 0
      },
      "text/plain": [
       "Generate report structure:   0%|          | 0/1 [00:00<?, ?it/s]"
      ]
     },
     "metadata": {},
     "output_type": "display_data"
    },
    {
     "data": {
      "application/vnd.jupyter.widget-view+json": {
       "model_id": "e36eb065f94d43f2ab45b9960c73488b",
       "version_major": 2,
       "version_minor": 0
      },
      "text/plain": [
       "Render HTML:   0%|          | 0/1 [00:00<?, ?it/s]"
      ]
     },
     "metadata": {},
     "output_type": "display_data"
    },
    {
     "data": {
      "application/vnd.jupyter.widget-view+json": {
       "model_id": "bda904b230874aa0ad8b4aeb6994421a",
       "version_major": 2,
       "version_minor": 0
      },
      "text/plain": [
       "Export report to file:   0%|          | 0/1 [00:00<?, ?it/s]"
      ]
     },
     "metadata": {},
     "output_type": "display_data"
    }
   ],
   "source": [
    "prtA = yp.ProfileReport(problem.A)\n",
    "prtA.to_file(REPORT_FOLDER + os.sep + 'reportA.html')"
   ]
  },
  {
   "cell_type": "code",
   "execution_count": 32,
   "id": "c52a2fe9",
   "metadata": {},
   "outputs": [
    {
     "data": {
      "application/vnd.jupyter.widget-view+json": {
       "model_id": "47c580f31e2244fa813bfd2aec8bbe96",
       "version_major": 2,
       "version_minor": 0
      },
      "text/plain": [
       "Summarize dataset:   0%|          | 0/5 [00:00<?, ?it/s]"
      ]
     },
     "metadata": {},
     "output_type": "display_data"
    },
    {
     "data": {
      "application/vnd.jupyter.widget-view+json": {
       "model_id": "d7db4c55bc364d09816131f0a45f68a5",
       "version_major": 2,
       "version_minor": 0
      },
      "text/plain": [
       "Generate report structure:   0%|          | 0/1 [00:00<?, ?it/s]"
      ]
     },
     "metadata": {},
     "output_type": "display_data"
    },
    {
     "data": {
      "application/vnd.jupyter.widget-view+json": {
       "model_id": "b1d1ae9b3c3449e4b90e1bd434c1a0b6",
       "version_major": 2,
       "version_minor": 0
      },
      "text/plain": [
       "Render HTML:   0%|          | 0/1 [00:00<?, ?it/s]"
      ]
     },
     "metadata": {},
     "output_type": "display_data"
    },
    {
     "data": {
      "application/vnd.jupyter.widget-view+json": {
       "model_id": "a20111552a504bdcb314393e86c92505",
       "version_major": 2,
       "version_minor": 0
      },
      "text/plain": [
       "Export report to file:   0%|          | 0/1 [00:00<?, ?it/s]"
      ]
     },
     "metadata": {},
     "output_type": "display_data"
    }
   ],
   "source": [
    "prtB = yp.ProfileReport(problem.B)\n",
    "prtB.to_file(REPORT_FOLDER + os.sep + 'reportB.html')"
   ]
  },
  {
   "cell_type": "code",
   "execution_count": null,
   "id": "6440f966",
   "metadata": {},
   "outputs": [],
   "source": []
  }
 ],
 "metadata": {
  "kernelspec": {
   "display_name": "Python 3 (ipykernel)",
   "language": "python",
   "name": "python3"
  },
  "language_info": {
   "codemirror_mode": {
    "name": "ipython",
    "version": 3
   },
   "file_extension": ".py",
   "mimetype": "text/x-python",
   "name": "python",
   "nbconvert_exporter": "python",
   "pygments_lexer": "ipython3",
   "version": "3.10.0"
  }
 },
 "nbformat": 4,
 "nbformat_minor": 5
}
